{
 "cells": [
  {
   "cell_type": "code",
   "execution_count": 1,
   "id": "47d127e7-03a8-4e46-b557-69e024d47fb3",
   "metadata": {},
   "outputs": [],
   "source": [
    "import numpy as np"
   ]
  },
  {
   "cell_type": "code",
   "execution_count": 7,
   "id": "a80d7058-b098-4f8d-8878-c684e5483249",
   "metadata": {},
   "outputs": [],
   "source": [
    "n=np.arange(10)"
   ]
  },
  {
   "cell_type": "code",
   "execution_count": 9,
   "id": "633f53f9-b7b0-42ef-8587-61b6f7a67ff3",
   "metadata": {},
   "outputs": [
    {
     "data": {
      "text/plain": [
       "array([0, 1, 2, 3, 4, 5, 6, 7, 8, 9])"
      ]
     },
     "execution_count": 9,
     "metadata": {},
     "output_type": "execute_result"
    }
   ],
   "source": [
    "n"
   ]
  },
  {
   "cell_type": "code",
   "execution_count": 11,
   "id": "91924351-6e68-41f0-91c9-fec6941f273a",
   "metadata": {},
   "outputs": [],
   "source": [
    "b=np.arange(2,10,2)"
   ]
  },
  {
   "cell_type": "code",
   "execution_count": 13,
   "id": "29bece77-2aea-45e1-8692-618fca1898eb",
   "metadata": {},
   "outputs": [
    {
     "data": {
      "text/plain": [
       "array([2, 4, 6, 8])"
      ]
     },
     "execution_count": 13,
     "metadata": {},
     "output_type": "execute_result"
    }
   ],
   "source": [
    "b"
   ]
  },
  {
   "cell_type": "code",
   "execution_count": 25,
   "id": "1d6d77fa-fe58-42b9-aaf2-323eede17da8",
   "metadata": {},
   "outputs": [
    {
     "data": {
      "text/plain": [
       "(4,)"
      ]
     },
     "execution_count": 25,
     "metadata": {},
     "output_type": "execute_result"
    }
   ],
   "source": [
    "b.shape"
   ]
  },
  {
   "cell_type": "code",
   "execution_count": 17,
   "id": "14e20e09-aa9c-416f-b73e-0983d6138c1d",
   "metadata": {},
   "outputs": [
    {
     "data": {
      "text/plain": [
       "array([1, 2, 3, 4])"
      ]
     },
     "execution_count": 17,
     "metadata": {},
     "output_type": "execute_result"
    }
   ],
   "source": [
    "ar=np.array([1,2,3,4])\n",
    "ar"
   ]
  },
  {
   "cell_type": "code",
   "execution_count": 19,
   "id": "e09f3e24-10d2-4dc3-ba78-e038f292fb97",
   "metadata": {},
   "outputs": [],
   "source": [
    "arr=np.array(\n",
    "    [[1,2,3],\n",
    "     [3,4,5]\n",
    "    ]\n",
    ")                              #2d dimension"
   ]
  },
  {
   "cell_type": "code",
   "execution_count": 21,
   "id": "5f6d9086-12aa-4e64-a97f-c1f9560c608c",
   "metadata": {},
   "outputs": [
    {
     "data": {
      "text/plain": [
       "array([[1, 2, 3],\n",
       "       [3, 4, 5]])"
      ]
     },
     "execution_count": 21,
     "metadata": {},
     "output_type": "execute_result"
    }
   ],
   "source": [
    "arr"
   ]
  },
  {
   "cell_type": "code",
   "execution_count": 23,
   "id": "a463fda1-a73d-4a19-a2ac-6cd5e9cb94ba",
   "metadata": {},
   "outputs": [
    {
     "data": {
      "text/plain": [
       "(2, 3)"
      ]
     },
     "execution_count": 23,
     "metadata": {},
     "output_type": "execute_result"
    }
   ],
   "source": [
    "arr.shape      #rows,columns"
   ]
  },
  {
   "cell_type": "code",
   "execution_count": 29,
   "id": "e7a6384e-1534-4117-86d6-223084eaa534",
   "metadata": {},
   "outputs": [
    {
     "data": {
      "text/plain": [
       "dtype('int32')"
      ]
     },
     "execution_count": 29,
     "metadata": {},
     "output_type": "execute_result"
    }
   ],
   "source": [
    "arr.dtype"
   ]
  },
  {
   "cell_type": "code",
   "execution_count": 31,
   "id": "9d639ff8-6636-4532-a6aa-aa3b5192bb0b",
   "metadata": {},
   "outputs": [],
   "source": [
    "a=np.array([1,2,3], dtype=np.float32)"
   ]
  },
  {
   "cell_type": "code",
   "execution_count": 33,
   "id": "26170f04-f6b4-447c-ae29-41d7d57ab01b",
   "metadata": {},
   "outputs": [
    {
     "data": {
      "text/plain": [
       "array([1., 2., 3.], dtype=float32)"
      ]
     },
     "execution_count": 33,
     "metadata": {},
     "output_type": "execute_result"
    }
   ],
   "source": [
    "a"
   ]
  },
  {
   "cell_type": "code",
   "execution_count": 37,
   "id": "e7acf3ed-1f1e-45f8-8d42-7c01831a600b",
   "metadata": {},
   "outputs": [],
   "source": [
    "a=np.zeros([1,2,3])"
   ]
  },
  {
   "cell_type": "code",
   "execution_count": 39,
   "id": "bee29faf-8499-4aa6-9709-e39390092a82",
   "metadata": {},
   "outputs": [
    {
     "data": {
      "text/plain": [
       "array([[[0., 0., 0.],\n",
       "        [0., 0., 0.]]])"
      ]
     },
     "execution_count": 39,
     "metadata": {},
     "output_type": "execute_result"
    }
   ],
   "source": [
    "a"
   ]
  },
  {
   "cell_type": "code",
   "execution_count": 41,
   "id": "579c8e7a-5f7b-41f0-a755-b023b0e75d54",
   "metadata": {},
   "outputs": [],
   "source": [
    "x=np.zeros((2,3,4))"
   ]
  },
  {
   "cell_type": "code",
   "execution_count": 43,
   "id": "5e02c062-99d0-4c1d-bae9-5b4e848e50d9",
   "metadata": {},
   "outputs": [
    {
     "data": {
      "text/plain": [
       "array([[[0., 0., 0., 0.],\n",
       "        [0., 0., 0., 0.],\n",
       "        [0., 0., 0., 0.]],\n",
       "\n",
       "       [[0., 0., 0., 0.],\n",
       "        [0., 0., 0., 0.],\n",
       "        [0., 0., 0., 0.]]])"
      ]
     },
     "execution_count": 43,
     "metadata": {},
     "output_type": "execute_result"
    }
   ],
   "source": [
    "x"
   ]
  },
  {
   "cell_type": "code",
   "execution_count": 47,
   "id": "560a95f6-c96a-4c29-902a-4c6a16c05355",
   "metadata": {},
   "outputs": [
    {
     "data": {
      "text/plain": [
       "3"
      ]
     },
     "execution_count": 47,
     "metadata": {},
     "output_type": "execute_result"
    }
   ],
   "source": [
    "x.ndim"
   ]
  },
  {
   "cell_type": "code",
   "execution_count": 49,
   "id": "ee6124f9-a98d-48e9-99f0-53cd31321e6b",
   "metadata": {},
   "outputs": [
    {
     "data": {
      "text/plain": [
       "24"
      ]
     },
     "execution_count": 49,
     "metadata": {},
     "output_type": "execute_result"
    }
   ],
   "source": [
    "x.size"
   ]
  },
  {
   "cell_type": "code",
   "execution_count": 51,
   "id": "b4bfda6e-a7d7-45bc-9488-d635197e92f4",
   "metadata": {},
   "outputs": [
    {
     "data": {
      "text/plain": [
       "array([[4, 4],\n",
       "       [4, 4]])"
      ]
     },
     "execution_count": 51,
     "metadata": {},
     "output_type": "execute_result"
    }
   ],
   "source": [
    "x=np.full((2,2),4)\n",
    "x"
   ]
  },
  {
   "cell_type": "code",
   "execution_count": 59,
   "id": "8290aea9-8dd3-4ddf-a662-bc18054c37b6",
   "metadata": {},
   "outputs": [
    {
     "data": {
      "text/plain": [
       "array([ 5,  9, 13])"
      ]
     },
     "execution_count": 59,
     "metadata": {},
     "output_type": "execute_result"
    }
   ],
   "source": [
    "# opereations\n",
    "asum=np.add([2,4,6],[3,5,7])\n",
    "asum"
   ]
  },
  {
   "cell_type": "code",
   "execution_count": 71,
   "id": "9380ed04-2719-4342-b445-6109d72526fa",
   "metadata": {},
   "outputs": [],
   "source": [
    "a=np.array([[1,2,3],[4,5,6],[7,8,9] ])"
   ]
  },
  {
   "cell_type": "code",
   "execution_count": 73,
   "id": "11dca786-9e52-4a46-a2b8-de5f4f64de0d",
   "metadata": {},
   "outputs": [
    {
     "data": {
      "text/plain": [
       "array([[1, 2, 3],\n",
       "       [4, 5, 6],\n",
       "       [7, 8, 9]])"
      ]
     },
     "execution_count": 73,
     "metadata": {},
     "output_type": "execute_result"
    }
   ],
   "source": [
    "a"
   ]
  },
  {
   "cell_type": "code",
   "execution_count": 75,
   "id": "7f136edd-39dc-4f7f-bbbd-4d53c24d58f1",
   "metadata": {},
   "outputs": [
    {
     "data": {
      "text/plain": [
       "2"
      ]
     },
     "execution_count": 75,
     "metadata": {},
     "output_type": "execute_result"
    }
   ],
   "source": [
    "a.ndim"
   ]
  },
  {
   "cell_type": "code",
   "execution_count": 77,
   "id": "6d916310-3396-476d-9b33-793e37cfa652",
   "metadata": {},
   "outputs": [
    {
     "data": {
      "text/plain": [
       "array([[1, 2, 3],\n",
       "       [4, 5, 6]])"
      ]
     },
     "execution_count": 77,
     "metadata": {},
     "output_type": "execute_result"
    }
   ],
   "source": [
    "a[0:2]"
   ]
  },
  {
   "cell_type": "code",
   "execution_count": 81,
   "id": "b1d1db37-c88f-45b4-bf09-cd87e5944f98",
   "metadata": {},
   "outputs": [
    {
     "data": {
      "text/plain": [
       "array([[2, 3],\n",
       "       [5, 6]])"
      ]
     },
     "execution_count": 81,
     "metadata": {},
     "output_type": "execute_result"
    }
   ],
   "source": [
    "a[0:2,1:3]"
   ]
  },
  {
   "cell_type": "code",
   "execution_count": 83,
   "id": "bbadab3f-e132-4db6-8e11-358db5d00387",
   "metadata": {},
   "outputs": [],
   "source": [
    "a[0:2,1:3]=[[10,23],[40,50]]"
   ]
  },
  {
   "cell_type": "code",
   "execution_count": 85,
   "id": "4bb9f4e7-6a1d-4908-b6ad-72c39b617a1a",
   "metadata": {},
   "outputs": [
    {
     "data": {
      "text/plain": [
       "array([[ 1, 10, 23],\n",
       "       [ 4, 40, 50],\n",
       "       [ 7,  8,  9]])"
      ]
     },
     "execution_count": 85,
     "metadata": {},
     "output_type": "execute_result"
    }
   ],
   "source": [
    "a"
   ]
  },
  {
   "cell_type": "code",
   "execution_count": 87,
   "id": "975bb591-ca72-4ea3-921b-53eabdff20ef",
   "metadata": {},
   "outputs": [],
   "source": [
    "#Boolean indexing allows you to select elements from an array based on a condition. You create a boolean mask indicating \n",
    "#which elements satisfy the condition, and then use this mask to extract the desired elements.\n",
    "z=np.array([1,5,8,10,3,2])"
   ]
  },
  {
   "cell_type": "code",
   "execution_count": 89,
   "id": "8295fe1f-1a5d-4b6d-8121-8a199b5b1e6f",
   "metadata": {},
   "outputs": [],
   "source": [
    "z1=z>3"
   ]
  },
  {
   "cell_type": "code",
   "execution_count": 91,
   "id": "822e3187-efde-402b-b0b4-8ea8fbba09dc",
   "metadata": {},
   "outputs": [
    {
     "data": {
      "text/plain": [
       "array([False,  True,  True,  True, False, False])"
      ]
     },
     "execution_count": 91,
     "metadata": {},
     "output_type": "execute_result"
    }
   ],
   "source": [
    "z1"
   ]
  },
  {
   "cell_type": "code",
   "execution_count": 93,
   "id": "d862a447-2cb8-4150-a714-1f736339f283",
   "metadata": {},
   "outputs": [
    {
     "data": {
      "text/plain": [
       "array([ 5,  8, 10])"
      ]
     },
     "execution_count": 93,
     "metadata": {},
     "output_type": "execute_result"
    }
   ],
   "source": [
    "z[z1]"
   ]
  },
  {
   "cell_type": "code",
   "execution_count": 95,
   "id": "7fb8f4ec-9767-4cdc-bb10-747beb043e95",
   "metadata": {},
   "outputs": [],
   "source": [
    "#Fancy indexing allows you to select elements from an array using arrays of indices. You provide arrays of\n",
    "#indices along each axis, and the elements at those indices are returned as a new array.\n",
    "\n",
    "z=np.array([1,5,8,10,3,2])\n",
    "\n"
   ]
  },
  {
   "cell_type": "code",
   "execution_count": 97,
   "id": "03d207d2-6755-411b-abce-5662208a29ef",
   "metadata": {},
   "outputs": [],
   "source": [
    "z1=[0,2,5]"
   ]
  },
  {
   "cell_type": "code",
   "execution_count": 99,
   "id": "aee97214-c3cb-41f2-bba6-85f71a356d5e",
   "metadata": {},
   "outputs": [
    {
     "data": {
      "text/plain": [
       "array([1, 8, 2])"
      ]
     },
     "execution_count": 99,
     "metadata": {},
     "output_type": "execute_result"
    }
   ],
   "source": [
    "z[z1]"
   ]
  },
  {
   "cell_type": "code",
   "execution_count": 109,
   "id": "4def0b22-8c36-4a78-9928-771e3b9cd0db",
   "metadata": {},
   "outputs": [
    {
     "data": {
      "text/plain": [
       "array([[1, 2, 3],\n",
       "       [4, 5, 6]])"
      ]
     },
     "execution_count": 109,
     "metadata": {},
     "output_type": "execute_result"
    }
   ],
   "source": [
    "''' Transposing Arrays:\n",
    "Transposing an array means exchanging its rows and columns. In NumPy,\n",
    "you can transpose an array using the T attribute or the transpose() function.'''\n",
    "Tra=np.array([\n",
    "    [1,2,3],\n",
    "    [4,5,6]\n",
    "])\n",
    "Tra\n"
   ]
  },
  {
   "cell_type": "code",
   "execution_count": 111,
   "id": "40215b22-0e06-4c68-8805-0370d5047c8c",
   "metadata": {},
   "outputs": [],
   "source": [
    "Transpose=Tra.T\n"
   ]
  },
  {
   "cell_type": "code",
   "execution_count": 113,
   "id": "0472774f-2880-4ba6-8ce5-3b7c591ae9e2",
   "metadata": {},
   "outputs": [
    {
     "data": {
      "text/plain": [
       "(2, 3)"
      ]
     },
     "execution_count": 113,
     "metadata": {},
     "output_type": "execute_result"
    }
   ],
   "source": [
    "Tra.shape"
   ]
  },
  {
   "cell_type": "code",
   "execution_count": 115,
   "id": "98583e07-816f-4d4e-89e1-1cb48e8a5ac7",
   "metadata": {},
   "outputs": [
    {
     "data": {
      "text/plain": [
       "array([[1, 4],\n",
       "       [2, 5],\n",
       "       [3, 6]])"
      ]
     },
     "execution_count": 115,
     "metadata": {},
     "output_type": "execute_result"
    }
   ],
   "source": [
    "Transpose"
   ]
  },
  {
   "cell_type": "code",
   "execution_count": 117,
   "id": "8420c5c8-3e34-4490-a65f-891eb89c8c4b",
   "metadata": {},
   "outputs": [
    {
     "data": {
      "text/plain": [
       "(3, 2)"
      ]
     },
     "execution_count": 117,
     "metadata": {},
     "output_type": "execute_result"
    }
   ],
   "source": [
    "Transpose.shape"
   ]
  },
  {
   "cell_type": "code",
   "execution_count": 119,
   "id": "79c61249-6b30-4fe9-b021-a0a9233b8832",
   "metadata": {},
   "outputs": [
    {
     "data": {
      "text/plain": [
       "array([[1, 2, 3],\n",
       "       [4, 5, 6]])"
      ]
     },
     "execution_count": 119,
     "metadata": {},
     "output_type": "execute_result"
    }
   ],
   "source": [
    "'''Swapping Axes:\n",
    "\n",
    "Swapping axes means rearranging the dimensions of an array. You can swap axes using the swapaxes() function.'''\n",
    "sw=np.array([[1,2,3],\n",
    "             [4,5,6]])\n",
    "sw"
   ]
  },
  {
   "cell_type": "code",
   "execution_count": 121,
   "id": "5c51f635-6e21-443c-8f32-a3302a4536c6",
   "metadata": {},
   "outputs": [
    {
     "data": {
      "text/plain": [
       "(2, 3)"
      ]
     },
     "execution_count": 121,
     "metadata": {},
     "output_type": "execute_result"
    }
   ],
   "source": [
    "sw.shape"
   ]
  },
  {
   "cell_type": "code",
   "execution_count": 123,
   "id": "400ace2e-eee0-4bad-a57f-53e07db5de96",
   "metadata": {},
   "outputs": [],
   "source": [
    "swa=sw.swapaxes(0,1)"
   ]
  },
  {
   "cell_type": "code",
   "execution_count": 125,
   "id": "5cd666bb-6939-4bd4-a952-3180aa0d0425",
   "metadata": {},
   "outputs": [
    {
     "data": {
      "text/plain": [
       "array([[1, 4],\n",
       "       [2, 5],\n",
       "       [3, 6]])"
      ]
     },
     "execution_count": 125,
     "metadata": {},
     "output_type": "execute_result"
    }
   ],
   "source": [
    "swa"
   ]
  },
  {
   "cell_type": "code",
   "execution_count": 127,
   "id": "9a1c2955-1076-4eda-a15d-a03bcf65604c",
   "metadata": {},
   "outputs": [
    {
     "data": {
      "text/plain": [
       "(3, 2)"
      ]
     },
     "execution_count": 127,
     "metadata": {},
     "output_type": "execute_result"
    }
   ],
   "source": [
    "swa.shape"
   ]
  },
  {
   "cell_type": "code",
   "execution_count": 129,
   "id": "e6f3e762-0b91-446c-9658-047f05cb508a",
   "metadata": {},
   "outputs": [
    {
     "name": "stdout",
     "output_type": "stream",
     "text": [
      "Original array shape: (2, 3, 4)\n"
     ]
    }
   ],
   "source": [
    "# Create a 3D array of shape (2, 3, 4)\n",
    "# Think of it as 2 layers of 3x4 matrices\n",
    "array_3d = np.array([[[ 1,  2,  3,  4],\n",
    "                      [ 5,  6,  7,  8],\n",
    "                      [ 9, 10, 11, 12]],\n",
    "\n",
    "                     [[13, 14, 15, 16],\n",
    "                      [17, 18, 19, 20],\n",
    "                      [21, 22, 23, 24]]])\n",
    "\n",
    "print(\"Original array shape:\", array_3d.shape)"
   ]
  },
  {
   "cell_type": "code",
   "execution_count": 135,
   "id": "f0b65405-fb96-4e14-9874-def7505ffc08",
   "metadata": {},
   "outputs": [
    {
     "data": {
      "text/plain": [
       "array([[[ 1,  2,  3,  4],\n",
       "        [13, 14, 15, 16]],\n",
       "\n",
       "       [[ 5,  6,  7,  8],\n",
       "        [17, 18, 19, 20]],\n",
       "\n",
       "       [[ 9, 10, 11, 12],\n",
       "        [21, 22, 23, 24]]])"
      ]
     },
     "execution_count": 135,
     "metadata": {},
     "output_type": "execute_result"
    }
   ],
   "source": [
    "array_3d.swapaxes(0,1)"
   ]
  },
  {
   "cell_type": "code",
   "execution_count": 143,
   "id": "eb07038c-b9c5-4538-af79-f183b9669469",
   "metadata": {},
   "outputs": [
    {
     "data": {
      "text/plain": [
       "array([1, 2, 3, 4, 5, 6, 7, 8, 9])"
      ]
     },
     "execution_count": 143,
     "metadata": {},
     "output_type": "execute_result"
    }
   ],
   "source": [
    "#reshape\n",
    "ar=np.arange(1,10)\n",
    "ar"
   ]
  },
  {
   "cell_type": "code",
   "execution_count": 147,
   "id": "1bdba9d9-064c-47ed-a1cc-bfb1479a689a",
   "metadata": {},
   "outputs": [
    {
     "data": {
      "text/plain": [
       "array([[1, 2, 3],\n",
       "       [4, 5, 6],\n",
       "       [7, 8, 9]])"
      ]
     },
     "execution_count": 147,
     "metadata": {},
     "output_type": "execute_result"
    }
   ],
   "source": [
    "arr=ar.reshape((3,3))\n",
    "arr"
   ]
  },
  {
   "cell_type": "code",
   "execution_count": 156,
   "id": "1be13a75-b5bf-4051-a601-48a7a9ffa983",
   "metadata": {},
   "outputs": [
    {
     "data": {
      "text/plain": [
       "array([96, 40, 21, 31, 43])"
      ]
     },
     "execution_count": 156,
     "metadata": {},
     "output_type": "execute_result"
    }
   ],
   "source": [
    "''' Pseudo-random Number Generation:\n",
    "\n",
    "NumPy provides various functions for generating pseudo-random numbers. These functions are located in the numpy.random module.\n",
    "You can generate random numbers from different distributions, such as uniform, normal, binomial, etc.'''\n",
    "ar=np.random.randint(1,100,size=5)\n",
    "ar"
   ]
  },
  {
   "cell_type": "code",
   "execution_count": 163,
   "id": "f1f4db4f-091b-4070-b024-6da36934c8c6",
   "metadata": {},
   "outputs": [
    {
     "data": {
      "text/plain": [
       "array([-0.19928812,  0.57761843,  0.14162282, -0.1706833 , -0.06688416])"
      ]
     },
     "execution_count": 163,
     "metadata": {},
     "output_type": "execute_result"
    }
   ],
   "source": [
    "arr=np.random.normal(size=5)\n",
    "arr"
   ]
  },
  {
   "cell_type": "code",
   "execution_count": null,
   "id": "185de9b8-9ea5-437c-9e86-bf36daa37a5c",
   "metadata": {},
   "outputs": [],
   "source": []
  },
  {
   "cell_type": "code",
   "execution_count": null,
   "id": "5d4efe22-2713-42d4-9b13-48f6750ba07f",
   "metadata": {},
   "outputs": [],
   "source": []
  }
 ],
 "metadata": {
  "kernelspec": {
   "display_name": "Python 3 (ipykernel)",
   "language": "python",
   "name": "python3"
  },
  "language_info": {
   "codemirror_mode": {
    "name": "ipython",
    "version": 3
   },
   "file_extension": ".py",
   "mimetype": "text/x-python",
   "name": "python",
   "nbconvert_exporter": "python",
   "pygments_lexer": "ipython3",
   "version": "3.12.4"
  }
 },
 "nbformat": 4,
 "nbformat_minor": 5
}
