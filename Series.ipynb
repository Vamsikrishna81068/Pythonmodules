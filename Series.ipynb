{
 "cells": [
  {
   "cell_type": "code",
   "execution_count": 7,
   "id": "4d8c6df9-c863-4314-95cf-5f799081da3e",
   "metadata": {},
   "outputs": [],
   "source": [
    "import pandas as pd\n",
    "import numpy as np"
   ]
  },
  {
   "cell_type": "markdown",
   "id": "0ca30db2-47d1-4bc3-a04a-4cdd1ef6531e",
   "metadata": {},
   "source": [
    "# Creating series"
   ]
  },
  {
   "cell_type": "code",
   "execution_count": 70,
   "id": "38183991-5669-4d87-9a69-7bde4490e1fd",
   "metadata": {},
   "outputs": [
    {
     "data": {
      "text/plain": [
       "0    10\n",
       "1    40\n",
       "2    80\n",
       "3    60\n",
       "4    20\n",
       "5    30\n",
       "dtype: int64"
      ]
     },
     "execution_count": 70,
     "metadata": {},
     "output_type": "execute_result"
    }
   ],
   "source": [
    "# series : 1D \n",
    "e=pd.Series([10,40,80,60,20,30]) # we want to keep capiatal S\n",
    "e"
   ]
  },
  {
   "cell_type": "code",
   "execution_count": 17,
   "id": "4fa87525-057c-468b-97df-49f8d4427070",
   "metadata": {},
   "outputs": [
    {
     "data": {
      "text/plain": [
       "0        1\n",
       "1        2\n",
       "2        3\n",
       "3        4\n",
       "4        5\n",
       "5        6\n",
       "6    apple\n",
       "dtype: object"
      ]
     },
     "execution_count": 17,
     "metadata": {},
     "output_type": "execute_result"
    }
   ],
   "source": [
    "e=pd.Series([1,2,3,4,5,6,'apple'])\n",
    "e"
   ]
  },
  {
   "cell_type": "code",
   "execution_count": 23,
   "id": "c8130899-e127-4935-a8c9-986d9a21cade",
   "metadata": {},
   "outputs": [
    {
     "data": {
      "text/plain": [
       "count    6.000000\n",
       "mean     3.500000\n",
       "std      1.870829\n",
       "min      1.000000\n",
       "25%      2.250000\n",
       "50%      3.500000\n",
       "75%      4.750000\n",
       "max      6.000000\n",
       "dtype: float64"
      ]
     },
     "execution_count": 23,
     "metadata": {},
     "output_type": "execute_result"
    }
   ],
   "source": [
    "e.describe()"
   ]
  },
  {
   "cell_type": "markdown",
   "id": "3a4cbb24-b55d-4c77-b275-26f66600e0c5",
   "metadata": {},
   "source": [
    "# Data Manipulation"
   ]
  },
  {
   "cell_type": "code",
   "execution_count": 31,
   "id": "d4581b16-9d60-417a-980f-bf1b0add883b",
   "metadata": {},
   "outputs": [],
   "source": [
    "'''  map(func): Applies a function to each element in the Series.   '''\n",
    "\n",
    "s=e.map(lambda x: x*2)"
   ]
  },
  {
   "cell_type": "code",
   "execution_count": 33,
   "id": "92ac7ba1-6ee7-4fab-87ad-dfe31de119ce",
   "metadata": {},
   "outputs": [
    {
     "data": {
      "text/plain": [
       "0     20\n",
       "1     40\n",
       "2     80\n",
       "3    120\n",
       "dtype: int64"
      ]
     },
     "execution_count": 33,
     "metadata": {},
     "output_type": "execute_result"
    }
   ],
   "source": [
    "s"
   ]
  },
  {
   "cell_type": "code",
   "execution_count": 35,
   "id": "41b780fc-b8ef-4c76-b1c9-ee4b31098f37",
   "metadata": {},
   "outputs": [
    {
     "data": {
      "text/plain": [
       "0     20\n",
       "1     40\n",
       "2     80\n",
       "3    120\n",
       "dtype: int64"
      ]
     },
     "execution_count": 35,
     "metadata": {},
     "output_type": "execute_result"
    }
   ],
   "source": [
    "''' .apply(func): Similar to map, but more flexible. (Can be used Data Frames as well,\n",
    "where as map is only for Series)   '''\n",
    "\n",
    "s=e.apply(lambda x:x*2)\n",
    "s"
   ]
  },
  {
   "cell_type": "code",
   "execution_count": 41,
   "id": "ed495911-1b6d-4d50-8ae7-caddc35006c4",
   "metadata": {},
   "outputs": [
    {
     "data": {
      "text/plain": [
       "0    10\n",
       "4    20\n",
       "5    30\n",
       "1    40\n",
       "3    60\n",
       "2    80\n",
       "dtype: int64"
      ]
     },
     "execution_count": 41,
     "metadata": {},
     "output_type": "execute_result"
    }
   ],
   "source": [
    "''' sorting the series'''\n",
    "s=e.sort_values()    # change the incdicing alues\n",
    "s"
   ]
  },
  {
   "cell_type": "code",
   "execution_count": 66,
   "id": "4f80021d-42a1-455d-810a-46812be93794",
   "metadata": {},
   "outputs": [],
   "source": [
    "''' drop the values'''\n",
    "s=e.drop(1, inplace=True)         # inplace will  replace the series to e\n",
    "s"
   ]
  },
  {
   "cell_type": "code",
   "execution_count": 72,
   "id": "711046ef-0125-4551-b6b1-13ebe849661f",
   "metadata": {},
   "outputs": [
    {
     "data": {
      "text/plain": [
       "0    10\n",
       "1    40\n",
       "2    80\n",
       "3    60\n",
       "4    20\n",
       "5    30\n",
       "dtype: int64"
      ]
     },
     "execution_count": 72,
     "metadata": {},
     "output_type": "execute_result"
    }
   ],
   "source": [
    "e"
   ]
  },
  {
   "cell_type": "markdown",
   "id": "b133510a-b5e1-4d59-aa16-21bdfbb1ed1a",
   "metadata": {},
   "source": [
    "# Handling Missing Data"
   ]
  },
  {
   "cell_type": "code",
   "execution_count": 78,
   "id": "cc301830-610f-478b-a582-fd1861700c30",
   "metadata": {},
   "outputs": [
    {
     "name": "stdout",
     "output_type": "stream",
     "text": [
      "0    1.0\n",
      "1    2.0\n",
      "2    NaN\n",
      "3    4.0\n",
      "4    NaN\n",
      "dtype: float64\n"
     ]
    }
   ],
   "source": [
    "# Create a Series with missing values\n",
    "d = pd.Series([1, 2, np.nan, 4, np.nan])\n",
    "\n",
    "# Print the Series\n",
    "print(d)"
   ]
  },
  {
   "cell_type": "code",
   "execution_count": 80,
   "id": "bc671a83-069f-48b5-83b6-96946609cd11",
   "metadata": {},
   "outputs": [
    {
     "data": {
      "text/plain": [
       "0    False\n",
       "1    False\n",
       "2     True\n",
       "3    False\n",
       "4     True\n",
       "dtype: bool"
      ]
     },
     "execution_count": 80,
     "metadata": {},
     "output_type": "execute_result"
    }
   ],
   "source": [
    "d.isnull()"
   ]
  },
  {
   "cell_type": "code",
   "execution_count": 82,
   "id": "5fb742fc-bed1-4bea-8720-973a5286c97f",
   "metadata": {},
   "outputs": [
    {
     "data": {
      "text/plain": [
       "0     True\n",
       "1     True\n",
       "2    False\n",
       "3     True\n",
       "4    False\n",
       "dtype: bool"
      ]
     },
     "execution_count": 82,
     "metadata": {},
     "output_type": "execute_result"
    }
   ],
   "source": [
    "d.notnull()"
   ]
  },
  {
   "cell_type": "code",
   "execution_count": 88,
   "id": "cb6a021e-a21f-47e7-af87-8a3a7e33d2f7",
   "metadata": {},
   "outputs": [
    {
     "data": {
      "text/plain": [
       "0    1.0\n",
       "1    2.0\n",
       "2    5.0\n",
       "3    4.0\n",
       "4    5.0\n",
       "dtype: float64"
      ]
     },
     "execution_count": 88,
     "metadata": {},
     "output_type": "execute_result"
    }
   ],
   "source": [
    "\n",
    "''' filling the values where there is no values insted of np.nan'''\n",
    "f=d.fillna(5)\n",
    "f"
   ]
  },
  {
   "cell_type": "code",
   "execution_count": 92,
   "id": "45a8719a-dde6-4d54-86db-42881cb8c19f",
   "metadata": {},
   "outputs": [
    {
     "data": {
      "text/plain": [
       "0    1.0\n",
       "1    2.0\n",
       "3    4.0\n",
       "dtype: float64"
      ]
     },
     "execution_count": 92,
     "metadata": {},
     "output_type": "execute_result"
    }
   ],
   "source": [
    "'''dropna removing the empty values of np.nan'''\n",
    "g=d.dropna()\n",
    "g"
   ]
  },
  {
   "cell_type": "markdown",
   "id": "43a75fce-1b03-4bb0-81f5-ed7c1ea91461",
   "metadata": {},
   "source": [
    "# Indexing, Slicing, and Filtering"
   ]
  },
  {
   "cell_type": "code",
   "execution_count": 94,
   "id": "a8de40e4-9741-4618-9ae4-5fd94245f6f9",
   "metadata": {},
   "outputs": [
    {
     "name": "stdout",
     "output_type": "stream",
     "text": [
      "1\n",
      "9\n"
     ]
    }
   ],
   "source": [
    "'''s.iloc[ ]:** Purely integer-location based indexing'''\n",
    "# Indexing by position\n",
    "s = pd.Series([1, 3, 5, 7, 9])\n",
    "print(s.iloc[0])  # First element\n",
    "print(s.iloc[-1])  # Last element"
   ]
  },
  {
   "cell_type": "code",
   "execution_count": 98,
   "id": "ebb601f2-6f50-488d-97b8-f85657659805",
   "metadata": {},
   "outputs": [
    {
     "name": "stdout",
     "output_type": "stream",
     "text": [
      "1\n",
      "3\n"
     ]
    }
   ],
   "source": [
    "#**s.loc[ ]:** Label-based indexing.\n",
    "print(s.loc[0])\n",
    "print(s.loc[1])"
   ]
  },
  {
   "cell_type": "code",
   "execution_count": 104,
   "id": "d68abdc5-c92e-43d2-9852-f09a3e5400f3",
   "metadata": {},
   "outputs": [
    {
     "data": {
      "text/plain": [
       "A     1\n",
       "B     5\n",
       "C     8\n",
       "D    10\n",
       "E    20\n",
       "dtype: int64"
      ]
     },
     "execution_count": 104,
     "metadata": {},
     "output_type": "execute_result"
    }
   ],
   "source": [
    "#difference between iloc and loc\n",
    "n=pd.Series([1,5,8,10,20],index=['A','B','C','D','E'])\n",
    "n"
   ]
  },
  {
   "cell_type": "code",
   "execution_count": 108,
   "id": "d83d0ce3-e340-4ebd-86cd-b2d49cef767d",
   "metadata": {},
   "outputs": [
    {
     "name": "stdout",
     "output_type": "stream",
     "text": [
      "8 by using iloc\n",
      "A     1\n",
      "B     5\n",
      "C     8\n",
      "D    10\n",
      "dtype: int64 by using iloc integer\n"
     ]
    }
   ],
   "source": [
    "print(n.iloc[2],'by using iloc')\n",
    "print(n.iloc[0:4],'by using iloc integer') #here its doesnt print  4 elemnet:20"
   ]
  },
  {
   "cell_type": "code",
   "execution_count": 116,
   "id": "bcbbfbfa-649a-4554-923d-de056be502c5",
   "metadata": {},
   "outputs": [
    {
     "name": "stdout",
     "output_type": "stream",
     "text": [
      "5\n",
      "A     1\n",
      "B     5\n",
      "C     8\n",
      "D    10\n",
      "E    20\n",
      "dtype: int64\n"
     ]
    }
   ],
   "source": [
    "print(n.loc['B'])   #its is based on index\n",
    "print(n.loc['A':'E'])  # it will print  E index also :20"
   ]
  },
  {
   "cell_type": "code",
   "execution_count": 118,
   "id": "9295db6a-36ed-48ef-af5c-4aa4152562df",
   "metadata": {},
   "outputs": [
    {
     "name": "stdout",
     "output_type": "stream",
     "text": [
      "D    10\n",
      "E    20\n",
      "dtype: int64\n"
     ]
    }
   ],
   "source": [
    "# Filtering elements greater than 5\n",
    "filtered = n[n > 8]\n",
    "print(filtered)"
   ]
  },
  {
   "cell_type": "markdown",
   "id": "dcfe7ebe-2d37-4f09-8128-4de906beb649",
   "metadata": {
    "jp-MarkdownHeadingCollapsed": true
   },
   "source": [
    "# Aggregation"
   ]
  },
  {
   "cell_type": "code",
   "execution_count": 138,
   "id": "a4ac0e9e-93e7-40b4-889d-2867b4d060ae",
   "metadata": {},
   "outputs": [
    {
     "data": {
      "text/plain": [
       "0    10\n",
       "1    20\n",
       "2    30\n",
       "3    40\n",
       "4    50\n",
       "5    50\n",
       "dtype: int64"
      ]
     },
     "execution_count": 138,
     "metadata": {},
     "output_type": "execute_result"
    }
   ],
   "source": [
    "a=pd.Series([10,20,30,40,50,50])\n",
    "a"
   ]
  },
  {
   "cell_type": "code",
   "execution_count": 140,
   "id": "348ce3dc-a5ba-4392-83bb-f786a2605c6c",
   "metadata": {},
   "outputs": [
    {
     "data": {
      "text/plain": [
       "200"
      ]
     },
     "execution_count": 140,
     "metadata": {},
     "output_type": "execute_result"
    }
   ],
   "source": [
    "a.sum()"
   ]
  },
  {
   "cell_type": "code",
   "execution_count": 142,
   "id": "2f8c91e2-5269-4750-b248-6a9ba9666ac3",
   "metadata": {},
   "outputs": [
    {
     "data": {
      "text/plain": [
       "0     10\n",
       "1     30\n",
       "2     60\n",
       "3    100\n",
       "4    150\n",
       "5    200\n",
       "dtype: int64"
      ]
     },
     "execution_count": 142,
     "metadata": {},
     "output_type": "execute_result"
    }
   ],
   "source": [
    "a.cumsum()"
   ]
  },
  {
   "cell_type": "code",
   "execution_count": 144,
   "id": "3e710c0d-a9bd-4640-acb2-15127994b483",
   "metadata": {},
   "outputs": [
    {
     "data": {
      "text/plain": [
       "sum       200.000000\n",
       "mean       33.333333\n",
       "median     35.000000\n",
       "dtype: float64"
      ]
     },
     "execution_count": 144,
     "metadata": {},
     "output_type": "execute_result"
    }
   ],
   "source": [
    "agg=a.aggregate(['sum','mean','median','mode'])\n",
    "agg"
   ]
  },
  {
   "cell_type": "code",
   "execution_count": null,
   "id": "1c357007-cf6f-4b62-aadb-d8851e58d035",
   "metadata": {},
   "outputs": [],
   "source": []
  }
 ],
 "metadata": {
  "kernelspec": {
   "display_name": "Python 3 (ipykernel)",
   "language": "python",
   "name": "python3"
  },
  "language_info": {
   "codemirror_mode": {
    "name": "ipython",
    "version": 3
   },
   "file_extension": ".py",
   "mimetype": "text/x-python",
   "name": "python",
   "nbconvert_exporter": "python",
   "pygments_lexer": "ipython3",
   "version": "3.12.4"
  }
 },
 "nbformat": 4,
 "nbformat_minor": 5
}
